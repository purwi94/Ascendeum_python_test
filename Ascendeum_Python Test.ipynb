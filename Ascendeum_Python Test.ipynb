{
 "cells": [
  {
   "cell_type": "code",
   "execution_count": 63,
   "id": "6fdeca44-1a06-43f5-90d8-b7106407806c",
   "metadata": {},
   "outputs": [
    {
     "name": "stdin",
     "output_type": "stream",
     "text": [
      "Enter the number of letters: 10\n"
     ]
    },
    {
     "name": "stdout",
     "output_type": "stream",
     "text": [
      "          \n",
      "         A \n",
      "        A B \n",
      "       A B C \n",
      "      A B C D \n",
      "     A B C D E \n",
      "    A B C D E F \n",
      "   A B C D E F G \n",
      "  A B C D E F G H \n",
      " A B C D E F G H I \n",
      "A B C D E F G H I J \n",
      " A B C D E F G H I \n",
      "  A B C D E F G H \n",
      "   A B C D E F G \n",
      "    A B C D E F \n",
      "     A B C D E \n",
      "      A B C D \n",
      "       A B C \n",
      "        A B \n",
      "         A \n"
     ]
    }
   ],
   "source": [
    "num=int(input(\"Enter the number of letters:\"))\n",
    "\n",
    "for i in range(num):\n",
    "    for j in range(num-i):\n",
    "        print(\" \",end=\"\")\n",
    "    ascii_num=65\n",
    "    for k in range(i):\n",
    "        print(chr(ascii_num),end=\" \")\n",
    "        ascii_num+=1\n",
    "    print()\n",
    "for i in range(num):\n",
    "    for j in range(i):\n",
    "        print(\" \",end=\"\")\n",
    "    ascii_num=65\n",
    "    for k in range(num-i,0,-1):\n",
    "        print(chr(ascii_num),end=\" \")\n",
    "        ascii_num+=1\n",
    "    print()"
   ]
  },
  {
   "cell_type": "code",
   "execution_count": null,
   "id": "a0825eb1-8a32-4dfd-bb78-ed25873f7939",
   "metadata": {},
   "outputs": [],
   "source": []
  }
 ],
 "metadata": {
  "kernelspec": {
   "display_name": "Python 3 (ipykernel)",
   "language": "python",
   "name": "python3"
  },
  "language_info": {
   "codemirror_mode": {
    "name": "ipython",
    "version": 3
   },
   "file_extension": ".py",
   "mimetype": "text/x-python",
   "name": "python",
   "nbconvert_exporter": "python",
   "pygments_lexer": "ipython3",
   "version": "3.12.7"
  }
 },
 "nbformat": 4,
 "nbformat_minor": 5
}
